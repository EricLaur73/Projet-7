{
 "cells": [
  {
   "cell_type": "markdown",
   "metadata": {},
   "source": [
    "# API avec MLflow"
   ]
  },
  {
   "cell_type": "code",
   "execution_count": 6,
   "metadata": {},
   "outputs": [],
   "source": [
    "# Import des objects créer par la modélisation\n",
    "import joblib\n",
    "pipeline=joblib.load('pipeline_scoring.joblib') # le modèle de prédiction sous forme de pipeline\n",
    "signature=joblib.load('signature_MLflow.joblib') # la signature"
   ]
  },
  {
   "cell_type": "code",
   "execution_count": 7,
   "metadata": {},
   "outputs": [
    {
     "name": "stdout",
     "output_type": "stream",
     "text": [
      "Ancien dossier du modèle supprimé !\n"
     ]
    }
   ],
   "source": [
    "# Générer le modèle MLflow\n",
    "\n",
    "# Suppression de l'ancien modèle MLflow\n",
    "import shutil\n",
    "\n",
    "dossier_model_MLflow = r\"./mlflow_model\"\n",
    "\n",
    "try:\n",
    "    shutil.rmtree(dossier_model_MLflow)\n",
    "except OSError as e:\n",
    "    print(\"Dossier déjà supprimé !\")\n",
    "else:\n",
    "    print(\"Ancien dossier du modèle supprimé !\")\n",
    "\n",
    "# Sauvegarde du pipeline à l'aide de la fonction save_model au format cloudpickle\n",
    "import mlflow.sklearn\n",
    "mlflow.sklearn.save_model(sk_model=pipeline, path='mlflow_model', serialization_format='cloudpickle',signature=signature)"
   ]
  },
  {
   "cell_type": "code",
   "execution_count": 8,
   "metadata": {},
   "outputs": [
    {
     "name": "stdout",
     "output_type": "stream",
     "text": [
      "Fichiers requirementx.txt et cond.yaml supprimés !\n",
      "Entrée conda supprimée du fichier MLflow\n"
     ]
    }
   ],
   "source": [
    "# Adaptation du modèle généré pour publication sur heroku\n",
    "# heroku n'accepte pas conda /miniconda en librairie ou en add-on, cela provoque une erreur de build.\n",
    "# Suppression de l'utilisation de conda dans le model MLflow\n",
    "\n",
    "import os\n",
    "\n",
    "# Suppression de 2 fichiers en trop\n",
    "try :\n",
    "    os.remove(\"./mlflow_model/conda.yaml\")\n",
    "    os.remove(\"./mlflow_model/requirements.txt\") # le contenu de ce fichier a été ajoutée au requirements.txt situé à la racine de l'application\n",
    "except OSError as e:\n",
    "    print(\"Fichier(s) déjà supprimé(s)\")\n",
    "else :\n",
    "    print(\"Fichiers requirementx.txt et cond.yaml supprimés !\")\n",
    "\n",
    "# Suppression de l'entrée conda dans le fichier MLmodel\n",
    "with open(\"./mlflow_model/MLmodel\", 'r') as fichier:\n",
    "    contenu = fichier.readlines()\n",
    "    with open(\"./mlflow_model/MLmodel_modif\", 'w') as fichier_modif:\n",
    "        for ligne in contenu :\n",
    "            if ligne.find('conda') == -1 :\n",
    "                fichier_modif.write(ligne)\n",
    "            else :\n",
    "                print(\"Entrée conda supprimée du fichier MLflow\")\n",
    "                \n",
    "shutil.copy(\"./mlflow_model/MLModel_modif\", \"./mlflow_model/MLModel\")\n",
    "os.remove(\"./mlflow_model/MLmodel_modif\")"
   ]
  },
  {
   "cell_type": "markdown",
   "metadata": {},
   "source": [
    "## Serveur / API MLflow"
   ]
  },
  {
   "cell_type": "code",
   "execution_count": 9,
   "metadata": {},
   "outputs": [],
   "source": [
    "# Dans  un terminal bash, lancer le serveur avec :  \n",
    "# $ mlflow models serve -m ./Livrables/mlflow_model/"
   ]
  },
  {
   "cell_type": "code",
   "execution_count": 10,
   "metadata": {},
   "outputs": [],
   "source": [
    "# Requête CURL pour interroger l'API\n",
    "\n",
    "# Dans un terminal bash , interroger l'API  avec curl : \n",
    "# $ curl -v http://127.0.0.1:5000/invocations -H 'Content-Type: application/json' -d '{\"columns\": [\"...\",\"...\",...], \"data\": [[...,...,...]]}'\n",
    "# $ curl -v http://127.0.0.1:5000/invocations -H 'Content-Type: application/json' -d '{\"columns\": [\"FLAG_OWN_CAR\",\"FLAG_OWN_REALTY\",\"CNT_CHILDREN\",\"AMT_INCOME_TOTAL\",\"AMT_CREDIT\",\"AMT_ANNUITY\",\"AMT_GOODS_PRICE\",\"NAME_EDUCATION_TYPE\",\"NAME_FAMILY_STATUS\",\"DAYS_BIRTH\",\"EXT_SOURCE_1\",\"EXT_SOURCE_2\",\"EXT_SOURCE_3\"],\"data\": [[\"N\",\"N\",\"0\",\"0\",\"0\",\"0\",\"0\",\"Secondary / secondary special\",\"Single / not married\",\"0\",0.5,0.5,0.5]]}'"
   ]
  },
  {
   "cell_type": "markdown",
   "metadata": {},
   "source": []
  }
 ],
 "metadata": {
  "interpreter": {
   "hash": "7895fae55b67a8a8e22507daaa7e45ee91002ae9526a7b1304fca3b8681802af"
  },
  "kernelspec": {
   "display_name": "Python 3.9.7 64-bit ('base': conda)",
   "language": "python",
   "name": "python3"
  },
  "language_info": {
   "codemirror_mode": {
    "name": "ipython",
    "version": 3
   },
   "file_extension": ".py",
   "mimetype": "text/x-python",
   "name": "python",
   "nbconvert_exporter": "python",
   "pygments_lexer": "ipython3",
   "version": "3.9.7"
  },
  "orig_nbformat": 4
 },
 "nbformat": 4,
 "nbformat_minor": 2
}
